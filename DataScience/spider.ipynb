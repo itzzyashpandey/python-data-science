{
 "cells": [
  {
   "cell_type": "code",
   "execution_count": 2,
   "metadata": {},
   "outputs": [],
   "source": [
    "from dputils import scrape\n"
   ]
  },
  {
   "cell_type": "code",
   "execution_count": 10,
   "metadata": {},
   "outputs": [],
   "source": [
    "soup= scrape.get_webpage_data('https://www.ndtv.com/latest')"
   ]
  },
  {
   "cell_type": "code",
   "execution_count": 13,
   "metadata": {},
   "outputs": [],
   "source": [
    "t={'tag':'div','attrs': {'class': 'lisingNews'}}\n",
    "items={'tag':'div','attrs':{'class': 'news_Itm'}}\n",
    "title={'tag':'h2','attrs': { 'class' : 'newsHdng'}}\n",
    "deet = {'tag': 'span','attrs':{'class': 'posted-by'}}\n",
    "summary = {'tag': 'p','attrs':{'class': 'newsCont'}}\n"
   ]
  },
  {
   "cell_type": "code",
   "execution_count": 14,
   "metadata": {},
   "outputs": [
    {
     "name": "stdout",
     "output_type": "stream",
     "text": [
      "17 items found\n",
      "Item skipped at index: 3\n",
      "Item skipped at index: 7\n",
      "All items extracted\n"
     ]
    },
    {
     "data": {
      "text/plain": [
       "[{'title': \"Sushmita Sen Pictured With Ex-Boyfriend Rohman Shawl At Her Daughter Renee's Birthday Party\"},\n",
       " {'title': 'IT Firms Resort To Work-From-Home On Bengaluru Rain Fury'},\n",
       " {'title': '\"One Day They Will Discard Bapu\": Nitish Kumar\\'s Censure For RSS'},\n",
       " {'title': 'AILET 2023: Application Process To Start Tomorrow; Details Here'},\n",
       " {'title': 'Video: Lexus, Bentley, BMW... In Upscale Bengaluru, Cars, Houses Worth Crores Submerged'},\n",
       " {'title': 'Nitish Kumar \"Betrayed\" His Socialist Roots, Says Former Minister'},\n",
       " {'title': 'Nutritionist-Approved Food Items Can Help You Tackling Hair Problems'},\n",
       " {'title': \"Stones, Lathi, Firing: Army Aspirants Clash In Madhya Pradesh's Morena\"},\n",
       " {'title': \"NASA's Juno Mission Captures Jupiter's Complex Swirling Colours\"},\n",
       " {'title': 'Apple Watch Pro to Get Exclusive Bands, Faces; New Affordable Model Tipped'},\n",
       " {'title': \"What Is The Whole30 Diet? Here's Everything You Need To Know\"},\n",
       " {'title': 'Mumbai Man Stabs Wife Allegedly For Not Making Biryani For Dinner'},\n",
       " {'title': 'Apple iPhone 14 Pro Tipped to Pack Larger Camera Lenses Than iPhone 13 Pro, Case Colours Leak Online'},\n",
       " {'title': 'Pizza Baked Potato Recipe: Pizza Meets Baked Potatoes In This Crunchy And Cheesy Snack'},\n",
       " {'title': 'Liz Truss Appointed As UK PM At Audience With Queen'}]"
      ]
     },
     "execution_count": 14,
     "metadata": {},
     "output_type": "execute_result"
    }
   ],
   "source": [
    "result=scrape.extract_many(soup, target=t,items=items,title=title)\n",
    "from pprint import pprint\n",
    "pprint(result)\n"
   ]
  },
  {
   "cell_type": "code",
   "execution_count": null,
   "metadata": {},
   "outputs": [],
   "source": []
  }
 ],
 "metadata": {
  "kernelspec": {
   "display_name": "Python 3.9.12 ('base')",
   "language": "python",
   "name": "python3"
  },
  "language_info": {
   "codemirror_mode": {
    "name": "ipython",
    "version": 3
   },
   "file_extension": ".py",
   "mimetype": "text/x-python",
   "name": "python",
   "nbconvert_exporter": "python",
   "pygments_lexer": "ipython3",
   "version": "3.9.13"
  },
  "orig_nbformat": 4,
  "vscode": {
   "interpreter": {
    "hash": "7eab80a573c3a84e11db2afd06c4fdf81fc34258e286b03ef01584c7d952ee87"
   }
  }
 },
 "nbformat": 4,
 "nbformat_minor": 2
}
